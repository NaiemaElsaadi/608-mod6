{
 "cells": [
  {
   "cell_type": "markdown",
   "id": "f1d1d6f3-75fc-4d54-8cb6-d6e77dc226de",
   "metadata": {},
   "source": [
    "# Chapter17.2_Practice\n",
    "<b> Naiema Elsaadi</b>"
   ]
  },
  {
   "cell_type": "markdown",
   "id": "cc8a4fef-5cc2-4c2a-bd3f-a12c663a27f4",
   "metadata": {},
   "source": [
    "# 17.2 Relational Databases and Structured Query Language (SQL)"
   ]
  },
  {
   "cell_type": "markdown",
   "id": "753f6880-3cc9-4933-946e-4b796bab4679",
   "metadata": {},
   "source": [
    "<b>Tables, Rows and Columns  / Selecting Data Subsets  / SQLite "
   ]
  },
  {
   "cell_type": "markdown",
   "id": "8ea937f2-c559-4495-b4a3-8bd20b605069",
   "metadata": {},
   "source": [
    "# 17.2.1 A books Database"
   ]
  },
  {
   "cell_type": "markdown",
   "id": "0fc428f9-7f05-4b2a-9963-38ec7dca5e82",
   "metadata": {},
   "source": [
    "We will present a books database containing information about several of our books."
   ]
  },
  {
   "cell_type": "markdown",
   "id": "00d62a77-9f97-4eb2-b1fa-e0f872d6e4d9",
   "metadata": {},
   "source": [
    "<b> Creating the books Database </b>\n"
   ]
  },
  {
   "cell_type": "markdown",
   "id": "a51b9d49-8894-4146-a5ba-76e27dc08905",
   "metadata": {},
   "source": [
    "sqlite3 books.db < books.sql"
   ]
  },
  {
   "cell_type": "markdown",
   "id": "5823c8e9-375b-4ed8-9172-6d5ea37af5b9",
   "metadata": {},
   "source": [
    "<b> Connecting to the Database in Python</b>"
   ]
  },
  {
   "cell_type": "code",
   "execution_count": 1,
   "id": "ac374123-5572-452a-87e9-3fad8d1c4f6f",
   "metadata": {},
   "outputs": [],
   "source": [
    "import sqlite3"
   ]
  },
  {
   "cell_type": "code",
   "execution_count": 2,
   "id": "34f87cbc-4ce8-41ac-abf2-175e7e39b7eb",
   "metadata": {},
   "outputs": [],
   "source": [
    "connection = sqlite3.connect('books.db')"
   ]
  },
  {
   "cell_type": "markdown",
   "id": "61f70271-dc79-4208-9c8d-ed58c72eec5d",
   "metadata": {},
   "source": [
    "<b>authors Table</b>\n",
    "<br>id \n",
    "<br>first\n",
    "<br>last"
   ]
  },
  {
   "cell_type": "markdown",
   "id": "ae3ff75d-96af-4f37-b7db-ea875481ef80",
   "metadata": {},
   "source": [
    "<b> Viewing the authors Table's Contents</b> "
   ]
  },
  {
   "cell_type": "code",
   "execution_count": 3,
   "id": "7f3d047d-6ec0-4afc-8e5e-f71fb32c81f3",
   "metadata": {},
   "outputs": [],
   "source": [
    "import pandas as pd"
   ]
  },
  {
   "cell_type": "code",
   "execution_count": 4,
   "id": "6eed9c28-be71-483a-84d2-b75029337a05",
   "metadata": {},
   "outputs": [],
   "source": [
    "pd.options.display.max_columns = 10"
   ]
  },
  {
   "cell_type": "code",
   "execution_count": 5,
   "id": "5fb15170-18d9-40c2-8859-6f66983a3fde",
   "metadata": {},
   "outputs": [
    {
     "data": {
      "text/html": [
       "<div>\n",
       "<style scoped>\n",
       "    .dataframe tbody tr th:only-of-type {\n",
       "        vertical-align: middle;\n",
       "    }\n",
       "\n",
       "    .dataframe tbody tr th {\n",
       "        vertical-align: top;\n",
       "    }\n",
       "\n",
       "    .dataframe thead th {\n",
       "        text-align: right;\n",
       "    }\n",
       "</style>\n",
       "<table border=\"1\" class=\"dataframe\">\n",
       "  <thead>\n",
       "    <tr style=\"text-align: right;\">\n",
       "      <th></th>\n",
       "      <th>first</th>\n",
       "      <th>last</th>\n",
       "    </tr>\n",
       "    <tr>\n",
       "      <th>id</th>\n",
       "      <th></th>\n",
       "      <th></th>\n",
       "    </tr>\n",
       "  </thead>\n",
       "  <tbody>\n",
       "    <tr>\n",
       "      <th>1</th>\n",
       "      <td>Paul</td>\n",
       "      <td>Deitel</td>\n",
       "    </tr>\n",
       "    <tr>\n",
       "      <th>2</th>\n",
       "      <td>Harvey</td>\n",
       "      <td>Deitel</td>\n",
       "    </tr>\n",
       "    <tr>\n",
       "      <th>3</th>\n",
       "      <td>Abbey</td>\n",
       "      <td>Deitel</td>\n",
       "    </tr>\n",
       "    <tr>\n",
       "      <th>4</th>\n",
       "      <td>Dan</td>\n",
       "      <td>Quirk</td>\n",
       "    </tr>\n",
       "    <tr>\n",
       "      <th>5</th>\n",
       "      <td>Alexander</td>\n",
       "      <td>Wald</td>\n",
       "    </tr>\n",
       "  </tbody>\n",
       "</table>\n",
       "</div>"
      ],
      "text/plain": [
       "        first    last\n",
       "id                   \n",
       "1        Paul  Deitel\n",
       "2      Harvey  Deitel\n",
       "3       Abbey  Deitel\n",
       "4         Dan   Quirk\n",
       "5   Alexander    Wald"
      ]
     },
     "execution_count": 5,
     "metadata": {},
     "output_type": "execute_result"
    }
   ],
   "source": [
    "pd.read_sql('SELECT * FROM authors', connection,\n",
    "            index_col=['id'])"
   ]
  },
  {
   "cell_type": "markdown",
   "id": "e3a0ba89-769d-4904-80c6-36e39c8a4f65",
   "metadata": {},
   "source": [
    "<b> titles Table</b>"
   ]
  },
  {
   "cell_type": "code",
   "execution_count": 6,
   "id": "f6953b9b-1224-41d5-a809-1bc7dd5112fb",
   "metadata": {},
   "outputs": [
    {
     "data": {
      "text/html": [
       "<div>\n",
       "<style scoped>\n",
       "    .dataframe tbody tr th:only-of-type {\n",
       "        vertical-align: middle;\n",
       "    }\n",
       "\n",
       "    .dataframe tbody tr th {\n",
       "        vertical-align: top;\n",
       "    }\n",
       "\n",
       "    .dataframe thead th {\n",
       "        text-align: right;\n",
       "    }\n",
       "</style>\n",
       "<table border=\"1\" class=\"dataframe\">\n",
       "  <thead>\n",
       "    <tr style=\"text-align: right;\">\n",
       "      <th></th>\n",
       "      <th>isbn</th>\n",
       "      <th>title</th>\n",
       "      <th>edition</th>\n",
       "      <th>copyright</th>\n",
       "    </tr>\n",
       "  </thead>\n",
       "  <tbody>\n",
       "    <tr>\n",
       "      <th>0</th>\n",
       "      <td>0135404673</td>\n",
       "      <td>Intro to Python for CS and DS</td>\n",
       "      <td>1</td>\n",
       "      <td>2020</td>\n",
       "    </tr>\n",
       "    <tr>\n",
       "      <th>1</th>\n",
       "      <td>0132151006</td>\n",
       "      <td>Internet &amp; WWW How to Program</td>\n",
       "      <td>5</td>\n",
       "      <td>2012</td>\n",
       "    </tr>\n",
       "    <tr>\n",
       "      <th>2</th>\n",
       "      <td>0134743350</td>\n",
       "      <td>Java How to Program</td>\n",
       "      <td>11</td>\n",
       "      <td>2018</td>\n",
       "    </tr>\n",
       "    <tr>\n",
       "      <th>3</th>\n",
       "      <td>0133976890</td>\n",
       "      <td>C How to Program</td>\n",
       "      <td>8</td>\n",
       "      <td>2016</td>\n",
       "    </tr>\n",
       "    <tr>\n",
       "      <th>4</th>\n",
       "      <td>0133406954</td>\n",
       "      <td>Visual Basic 2012 How to Program</td>\n",
       "      <td>6</td>\n",
       "      <td>2014</td>\n",
       "    </tr>\n",
       "    <tr>\n",
       "      <th>5</th>\n",
       "      <td>0134601548</td>\n",
       "      <td>Visual C# How to Program</td>\n",
       "      <td>6</td>\n",
       "      <td>2017</td>\n",
       "    </tr>\n",
       "    <tr>\n",
       "      <th>6</th>\n",
       "      <td>0136151574</td>\n",
       "      <td>Visual C++ How to Program</td>\n",
       "      <td>2</td>\n",
       "      <td>2008</td>\n",
       "    </tr>\n",
       "    <tr>\n",
       "      <th>7</th>\n",
       "      <td>0134448235</td>\n",
       "      <td>C++ How to Program</td>\n",
       "      <td>10</td>\n",
       "      <td>2017</td>\n",
       "    </tr>\n",
       "    <tr>\n",
       "      <th>8</th>\n",
       "      <td>0134444302</td>\n",
       "      <td>Android How to Program</td>\n",
       "      <td>3</td>\n",
       "      <td>2017</td>\n",
       "    </tr>\n",
       "    <tr>\n",
       "      <th>9</th>\n",
       "      <td>0134289366</td>\n",
       "      <td>Android 6 for Programmers</td>\n",
       "      <td>3</td>\n",
       "      <td>2016</td>\n",
       "    </tr>\n",
       "  </tbody>\n",
       "</table>\n",
       "</div>"
      ],
      "text/plain": [
       "         isbn                             title  edition copyright\n",
       "0  0135404673     Intro to Python for CS and DS        1      2020\n",
       "1  0132151006     Internet & WWW How to Program        5      2012\n",
       "2  0134743350               Java How to Program       11      2018\n",
       "3  0133976890                  C How to Program        8      2016\n",
       "4  0133406954  Visual Basic 2012 How to Program        6      2014\n",
       "5  0134601548          Visual C# How to Program        6      2017\n",
       "6  0136151574         Visual C++ How to Program        2      2008\n",
       "7  0134448235                C++ How to Program       10      2017\n",
       "8  0134444302            Android How to Program        3      2017\n",
       "9  0134289366         Android 6 for Programmers        3      2016"
      ]
     },
     "execution_count": 6,
     "metadata": {},
     "output_type": "execute_result"
    }
   ],
   "source": [
    "pd.read_sql('SELECT * FROM titles', connection)"
   ]
  },
  {
   "cell_type": "markdown",
   "id": "cf512ddc-98c1-42f7-9cd1-4d3af78cf2f5",
   "metadata": {},
   "source": [
    "<b>author_ISBN Table</b>"
   ]
  },
  {
   "cell_type": "code",
   "execution_count": 7,
   "id": "2b97b378-1d35-40a1-bd35-0496d9f1dda3",
   "metadata": {},
   "outputs": [],
   "source": [
    "df = pd.read_sql('SELECT * FROM author_ISBN', connection)"
   ]
  },
  {
   "cell_type": "code",
   "execution_count": 8,
   "id": "40a0dac7-a96b-44c6-a9c2-b65157e3d5f2",
   "metadata": {},
   "outputs": [
    {
     "data": {
      "text/html": [
       "<div>\n",
       "<style scoped>\n",
       "    .dataframe tbody tr th:only-of-type {\n",
       "        vertical-align: middle;\n",
       "    }\n",
       "\n",
       "    .dataframe tbody tr th {\n",
       "        vertical-align: top;\n",
       "    }\n",
       "\n",
       "    .dataframe thead th {\n",
       "        text-align: right;\n",
       "    }\n",
       "</style>\n",
       "<table border=\"1\" class=\"dataframe\">\n",
       "  <thead>\n",
       "    <tr style=\"text-align: right;\">\n",
       "      <th></th>\n",
       "      <th>id</th>\n",
       "      <th>isbn</th>\n",
       "    </tr>\n",
       "  </thead>\n",
       "  <tbody>\n",
       "    <tr>\n",
       "      <th>0</th>\n",
       "      <td>1</td>\n",
       "      <td>0134289366</td>\n",
       "    </tr>\n",
       "    <tr>\n",
       "      <th>1</th>\n",
       "      <td>2</td>\n",
       "      <td>0134289366</td>\n",
       "    </tr>\n",
       "    <tr>\n",
       "      <th>2</th>\n",
       "      <td>5</td>\n",
       "      <td>0134289366</td>\n",
       "    </tr>\n",
       "    <tr>\n",
       "      <th>3</th>\n",
       "      <td>1</td>\n",
       "      <td>0135404673</td>\n",
       "    </tr>\n",
       "    <tr>\n",
       "      <th>4</th>\n",
       "      <td>2</td>\n",
       "      <td>0135404673</td>\n",
       "    </tr>\n",
       "  </tbody>\n",
       "</table>\n",
       "</div>"
      ],
      "text/plain": [
       "   id        isbn\n",
       "0   1  0134289366\n",
       "1   2  0134289366\n",
       "2   5  0134289366\n",
       "3   1  0135404673\n",
       "4   2  0135404673"
      ]
     },
     "execution_count": 8,
     "metadata": {},
     "output_type": "execute_result"
    }
   ],
   "source": [
    "df.head()"
   ]
  },
  {
   "cell_type": "markdown",
   "id": "78b5ab23-500c-43f8-9192-4beaf218a131",
   "metadata": {},
   "source": [
    "<b> Entity-Relationship(ER) Diagram</b>"
   ]
  },
  {
   "cell_type": "markdown",
   "id": "809f7e30-35c0-4f92-9dde-7c752efadd98",
   "metadata": {},
   "source": [
    "<b> SQL Keywords</b>"
   ]
  },
  {
   "cell_type": "markdown",
   "id": "f4af1972-45c1-4cdd-ac9f-ea74ced00620",
   "metadata": {},
   "source": [
    "# 17.2.2 SELECT Queries"
   ]
  },
  {
   "cell_type": "code",
   "execution_count": 9,
   "id": "3bc9a339-c511-44aa-afd3-368d7ea141f2",
   "metadata": {},
   "outputs": [
    {
     "data": {
      "text/html": [
       "<div>\n",
       "<style scoped>\n",
       "    .dataframe tbody tr th:only-of-type {\n",
       "        vertical-align: middle;\n",
       "    }\n",
       "\n",
       "    .dataframe tbody tr th {\n",
       "        vertical-align: top;\n",
       "    }\n",
       "\n",
       "    .dataframe thead th {\n",
       "        text-align: right;\n",
       "    }\n",
       "</style>\n",
       "<table border=\"1\" class=\"dataframe\">\n",
       "  <thead>\n",
       "    <tr style=\"text-align: right;\">\n",
       "      <th></th>\n",
       "      <th>first</th>\n",
       "      <th>last</th>\n",
       "    </tr>\n",
       "  </thead>\n",
       "  <tbody>\n",
       "    <tr>\n",
       "      <th>0</th>\n",
       "      <td>Paul</td>\n",
       "      <td>Deitel</td>\n",
       "    </tr>\n",
       "    <tr>\n",
       "      <th>1</th>\n",
       "      <td>Harvey</td>\n",
       "      <td>Deitel</td>\n",
       "    </tr>\n",
       "    <tr>\n",
       "      <th>2</th>\n",
       "      <td>Abbey</td>\n",
       "      <td>Deitel</td>\n",
       "    </tr>\n",
       "    <tr>\n",
       "      <th>3</th>\n",
       "      <td>Dan</td>\n",
       "      <td>Quirk</td>\n",
       "    </tr>\n",
       "    <tr>\n",
       "      <th>4</th>\n",
       "      <td>Alexander</td>\n",
       "      <td>Wald</td>\n",
       "    </tr>\n",
       "  </tbody>\n",
       "</table>\n",
       "</div>"
      ],
      "text/plain": [
       "       first    last\n",
       "0       Paul  Deitel\n",
       "1     Harvey  Deitel\n",
       "2      Abbey  Deitel\n",
       "3        Dan   Quirk\n",
       "4  Alexander    Wald"
      ]
     },
     "execution_count": 9,
     "metadata": {},
     "output_type": "execute_result"
    }
   ],
   "source": [
    "pd.read_sql('SELECT first, last FROM authors', connection)"
   ]
  },
  {
   "cell_type": "markdown",
   "id": "139d9080-740c-4017-bca3-53dafa943178",
   "metadata": {},
   "source": [
    "# 17.2.3 WHERE Clause"
   ]
  },
  {
   "cell_type": "code",
   "execution_count": 10,
   "id": "220962c9-7c98-4f82-a237-21f8f98ae895",
   "metadata": {},
   "outputs": [
    {
     "data": {
      "text/html": [
       "<div>\n",
       "<style scoped>\n",
       "    .dataframe tbody tr th:only-of-type {\n",
       "        vertical-align: middle;\n",
       "    }\n",
       "\n",
       "    .dataframe tbody tr th {\n",
       "        vertical-align: top;\n",
       "    }\n",
       "\n",
       "    .dataframe thead th {\n",
       "        text-align: right;\n",
       "    }\n",
       "</style>\n",
       "<table border=\"1\" class=\"dataframe\">\n",
       "  <thead>\n",
       "    <tr style=\"text-align: right;\">\n",
       "      <th></th>\n",
       "      <th>title</th>\n",
       "      <th>edition</th>\n",
       "      <th>copyright</th>\n",
       "    </tr>\n",
       "  </thead>\n",
       "  <tbody>\n",
       "    <tr>\n",
       "      <th>0</th>\n",
       "      <td>Intro to Python for CS and DS</td>\n",
       "      <td>1</td>\n",
       "      <td>2020</td>\n",
       "    </tr>\n",
       "    <tr>\n",
       "      <th>1</th>\n",
       "      <td>Java How to Program</td>\n",
       "      <td>11</td>\n",
       "      <td>2018</td>\n",
       "    </tr>\n",
       "    <tr>\n",
       "      <th>2</th>\n",
       "      <td>Visual C# How to Program</td>\n",
       "      <td>6</td>\n",
       "      <td>2017</td>\n",
       "    </tr>\n",
       "    <tr>\n",
       "      <th>3</th>\n",
       "      <td>C++ How to Program</td>\n",
       "      <td>10</td>\n",
       "      <td>2017</td>\n",
       "    </tr>\n",
       "    <tr>\n",
       "      <th>4</th>\n",
       "      <td>Android How to Program</td>\n",
       "      <td>3</td>\n",
       "      <td>2017</td>\n",
       "    </tr>\n",
       "  </tbody>\n",
       "</table>\n",
       "</div>"
      ],
      "text/plain": [
       "                           title  edition copyright\n",
       "0  Intro to Python for CS and DS        1      2020\n",
       "1            Java How to Program       11      2018\n",
       "2       Visual C# How to Program        6      2017\n",
       "3             C++ How to Program       10      2017\n",
       "4         Android How to Program        3      2017"
      ]
     },
     "execution_count": 10,
     "metadata": {},
     "output_type": "execute_result"
    }
   ],
   "source": [
    "pd.read_sql(\"\"\"SELECT title, edition, copyright \n",
    "                FROM titles \n",
    "                WHERE copyright > '2016'\"\"\", connection)"
   ]
  },
  {
   "cell_type": "markdown",
   "id": "8940915e-3706-4243-8ea0-7b06d5ca3d06",
   "metadata": {},
   "source": [
    "<b>Pattern Matching: Zero or More Characters</b>"
   ]
  },
  {
   "cell_type": "code",
   "execution_count": 11,
   "id": "d22bb8c8-524b-48da-a4aa-ff6fa7281dc0",
   "metadata": {},
   "outputs": [
    {
     "data": {
      "text/html": [
       "<div>\n",
       "<style scoped>\n",
       "    .dataframe tbody tr th:only-of-type {\n",
       "        vertical-align: middle;\n",
       "    }\n",
       "\n",
       "    .dataframe tbody tr th {\n",
       "        vertical-align: top;\n",
       "    }\n",
       "\n",
       "    .dataframe thead th {\n",
       "        text-align: right;\n",
       "    }\n",
       "</style>\n",
       "<table border=\"1\" class=\"dataframe\">\n",
       "  <thead>\n",
       "    <tr style=\"text-align: right;\">\n",
       "      <th></th>\n",
       "      <th>first</th>\n",
       "      <th>last</th>\n",
       "    </tr>\n",
       "    <tr>\n",
       "      <th>id</th>\n",
       "      <th></th>\n",
       "      <th></th>\n",
       "    </tr>\n",
       "  </thead>\n",
       "  <tbody>\n",
       "    <tr>\n",
       "      <th>1</th>\n",
       "      <td>Paul</td>\n",
       "      <td>Deitel</td>\n",
       "    </tr>\n",
       "    <tr>\n",
       "      <th>2</th>\n",
       "      <td>Harvey</td>\n",
       "      <td>Deitel</td>\n",
       "    </tr>\n",
       "    <tr>\n",
       "      <th>3</th>\n",
       "      <td>Abbey</td>\n",
       "      <td>Deitel</td>\n",
       "    </tr>\n",
       "  </tbody>\n",
       "</table>\n",
       "</div>"
      ],
      "text/plain": [
       "     first    last\n",
       "id                \n",
       "1     Paul  Deitel\n",
       "2   Harvey  Deitel\n",
       "3    Abbey  Deitel"
      ]
     },
     "execution_count": 11,
     "metadata": {},
     "output_type": "execute_result"
    }
   ],
   "source": [
    "pd.read_sql(\"\"\"SELECT id, first, last \n",
    "                FROM authors \n",
    "                WHERE last LIKE 'D%'\"\"\", \n",
    "             connection, index_col=['id'])\n"
   ]
  },
  {
   "cell_type": "markdown",
   "id": "e03bed37-11e5-4650-ac0f-fb3896d3207a",
   "metadata": {},
   "source": [
    "<b> Pattern Matching: Any Character</b>"
   ]
  },
  {
   "cell_type": "code",
   "execution_count": 12,
   "id": "def0a306-208f-42ed-ba66-19c170d1d891",
   "metadata": {},
   "outputs": [
    {
     "data": {
      "text/html": [
       "<div>\n",
       "<style scoped>\n",
       "    .dataframe tbody tr th:only-of-type {\n",
       "        vertical-align: middle;\n",
       "    }\n",
       "\n",
       "    .dataframe tbody tr th {\n",
       "        vertical-align: top;\n",
       "    }\n",
       "\n",
       "    .dataframe thead th {\n",
       "        text-align: right;\n",
       "    }\n",
       "</style>\n",
       "<table border=\"1\" class=\"dataframe\">\n",
       "  <thead>\n",
       "    <tr style=\"text-align: right;\">\n",
       "      <th></th>\n",
       "      <th>first</th>\n",
       "      <th>last</th>\n",
       "    </tr>\n",
       "    <tr>\n",
       "      <th>id</th>\n",
       "      <th></th>\n",
       "      <th></th>\n",
       "    </tr>\n",
       "  </thead>\n",
       "  <tbody>\n",
       "    <tr>\n",
       "      <th>3</th>\n",
       "      <td>Abbey</td>\n",
       "      <td>Deitel</td>\n",
       "    </tr>\n",
       "  </tbody>\n",
       "</table>\n",
       "</div>"
      ],
      "text/plain": [
       "    first    last\n",
       "id               \n",
       "3   Abbey  Deitel"
      ]
     },
     "execution_count": 12,
     "metadata": {},
     "output_type": "execute_result"
    }
   ],
   "source": [
    "pd.read_sql(\"\"\"SELECT id, first, last \n",
    "                FROM authors \n",
    "                WHERE first LIKE '_b%'\"\"\", \n",
    "             connection, index_col=['id'])\n"
   ]
  },
  {
   "cell_type": "markdown",
   "id": "2555d034-a856-42cd-bd12-7551f1afbd30",
   "metadata": {},
   "source": [
    "# 17.2.4 ORDER BY Clause"
   ]
  },
  {
   "cell_type": "code",
   "execution_count": 13,
   "id": "cea73749-2b56-4d27-a8ed-ea528afd4a3d",
   "metadata": {},
   "outputs": [
    {
     "data": {
      "text/html": [
       "<div>\n",
       "<style scoped>\n",
       "    .dataframe tbody tr th:only-of-type {\n",
       "        vertical-align: middle;\n",
       "    }\n",
       "\n",
       "    .dataframe tbody tr th {\n",
       "        vertical-align: top;\n",
       "    }\n",
       "\n",
       "    .dataframe thead th {\n",
       "        text-align: right;\n",
       "    }\n",
       "</style>\n",
       "<table border=\"1\" class=\"dataframe\">\n",
       "  <thead>\n",
       "    <tr style=\"text-align: right;\">\n",
       "      <th></th>\n",
       "      <th>title</th>\n",
       "    </tr>\n",
       "  </thead>\n",
       "  <tbody>\n",
       "    <tr>\n",
       "      <th>0</th>\n",
       "      <td>Android 6 for Programmers</td>\n",
       "    </tr>\n",
       "    <tr>\n",
       "      <th>1</th>\n",
       "      <td>Android How to Program</td>\n",
       "    </tr>\n",
       "    <tr>\n",
       "      <th>2</th>\n",
       "      <td>C How to Program</td>\n",
       "    </tr>\n",
       "    <tr>\n",
       "      <th>3</th>\n",
       "      <td>C++ How to Program</td>\n",
       "    </tr>\n",
       "    <tr>\n",
       "      <th>4</th>\n",
       "      <td>Internet &amp; WWW How to Program</td>\n",
       "    </tr>\n",
       "    <tr>\n",
       "      <th>5</th>\n",
       "      <td>Intro to Python for CS and DS</td>\n",
       "    </tr>\n",
       "    <tr>\n",
       "      <th>6</th>\n",
       "      <td>Java How to Program</td>\n",
       "    </tr>\n",
       "    <tr>\n",
       "      <th>7</th>\n",
       "      <td>Visual Basic 2012 How to Program</td>\n",
       "    </tr>\n",
       "    <tr>\n",
       "      <th>8</th>\n",
       "      <td>Visual C# How to Program</td>\n",
       "    </tr>\n",
       "    <tr>\n",
       "      <th>9</th>\n",
       "      <td>Visual C++ How to Program</td>\n",
       "    </tr>\n",
       "  </tbody>\n",
       "</table>\n",
       "</div>"
      ],
      "text/plain": [
       "                              title\n",
       "0         Android 6 for Programmers\n",
       "1            Android How to Program\n",
       "2                  C How to Program\n",
       "3                C++ How to Program\n",
       "4     Internet & WWW How to Program\n",
       "5     Intro to Python for CS and DS\n",
       "6               Java How to Program\n",
       "7  Visual Basic 2012 How to Program\n",
       "8          Visual C# How to Program\n",
       "9         Visual C++ How to Program"
      ]
     },
     "execution_count": 13,
     "metadata": {},
     "output_type": "execute_result"
    }
   ],
   "source": [
    "pd.read_sql('SELECT title FROM titles ORDER BY title ASC',\n",
    "             connection)"
   ]
  },
  {
   "cell_type": "markdown",
   "id": "21f1bd5b-8e69-404c-9b38-3ce1d55d6cf1",
   "metadata": {},
   "source": [
    "<b> Sorting By Multiple Columns</b>"
   ]
  },
  {
   "cell_type": "code",
   "execution_count": 14,
   "id": "51891a4c-f4a6-4969-9be7-480b8a9735c2",
   "metadata": {},
   "outputs": [
    {
     "data": {
      "text/html": [
       "<div>\n",
       "<style scoped>\n",
       "    .dataframe tbody tr th:only-of-type {\n",
       "        vertical-align: middle;\n",
       "    }\n",
       "\n",
       "    .dataframe tbody tr th {\n",
       "        vertical-align: top;\n",
       "    }\n",
       "\n",
       "    .dataframe thead th {\n",
       "        text-align: right;\n",
       "    }\n",
       "</style>\n",
       "<table border=\"1\" class=\"dataframe\">\n",
       "  <thead>\n",
       "    <tr style=\"text-align: right;\">\n",
       "      <th></th>\n",
       "      <th>first</th>\n",
       "      <th>last</th>\n",
       "    </tr>\n",
       "    <tr>\n",
       "      <th>id</th>\n",
       "      <th></th>\n",
       "      <th></th>\n",
       "    </tr>\n",
       "  </thead>\n",
       "  <tbody>\n",
       "    <tr>\n",
       "      <th>3</th>\n",
       "      <td>Abbey</td>\n",
       "      <td>Deitel</td>\n",
       "    </tr>\n",
       "    <tr>\n",
       "      <th>2</th>\n",
       "      <td>Harvey</td>\n",
       "      <td>Deitel</td>\n",
       "    </tr>\n",
       "    <tr>\n",
       "      <th>1</th>\n",
       "      <td>Paul</td>\n",
       "      <td>Deitel</td>\n",
       "    </tr>\n",
       "    <tr>\n",
       "      <th>4</th>\n",
       "      <td>Dan</td>\n",
       "      <td>Quirk</td>\n",
       "    </tr>\n",
       "    <tr>\n",
       "      <th>5</th>\n",
       "      <td>Alexander</td>\n",
       "      <td>Wald</td>\n",
       "    </tr>\n",
       "  </tbody>\n",
       "</table>\n",
       "</div>"
      ],
      "text/plain": [
       "        first    last\n",
       "id                   \n",
       "3       Abbey  Deitel\n",
       "2      Harvey  Deitel\n",
       "1        Paul  Deitel\n",
       "4         Dan   Quirk\n",
       "5   Alexander    Wald"
      ]
     },
     "execution_count": 14,
     "metadata": {},
     "output_type": "execute_result"
    }
   ],
   "source": [
    "pd.read_sql(\"\"\"SELECT id, first, last \n",
    "                FROM authors \n",
    "                ORDER BY last, first\"\"\", \n",
    "             connection, index_col=['id'])\n"
   ]
  },
  {
   "cell_type": "code",
   "execution_count": 15,
   "id": "13c8d50a-e117-4a12-bbd4-7a5a8d236ef0",
   "metadata": {},
   "outputs": [
    {
     "data": {
      "text/html": [
       "<div>\n",
       "<style scoped>\n",
       "    .dataframe tbody tr th:only-of-type {\n",
       "        vertical-align: middle;\n",
       "    }\n",
       "\n",
       "    .dataframe tbody tr th {\n",
       "        vertical-align: top;\n",
       "    }\n",
       "\n",
       "    .dataframe thead th {\n",
       "        text-align: right;\n",
       "    }\n",
       "</style>\n",
       "<table border=\"1\" class=\"dataframe\">\n",
       "  <thead>\n",
       "    <tr style=\"text-align: right;\">\n",
       "      <th></th>\n",
       "      <th>first</th>\n",
       "      <th>last</th>\n",
       "    </tr>\n",
       "    <tr>\n",
       "      <th>id</th>\n",
       "      <th></th>\n",
       "      <th></th>\n",
       "    </tr>\n",
       "  </thead>\n",
       "  <tbody>\n",
       "    <tr>\n",
       "      <th>5</th>\n",
       "      <td>Alexander</td>\n",
       "      <td>Wald</td>\n",
       "    </tr>\n",
       "    <tr>\n",
       "      <th>4</th>\n",
       "      <td>Dan</td>\n",
       "      <td>Quirk</td>\n",
       "    </tr>\n",
       "    <tr>\n",
       "      <th>3</th>\n",
       "      <td>Abbey</td>\n",
       "      <td>Deitel</td>\n",
       "    </tr>\n",
       "    <tr>\n",
       "      <th>2</th>\n",
       "      <td>Harvey</td>\n",
       "      <td>Deitel</td>\n",
       "    </tr>\n",
       "    <tr>\n",
       "      <th>1</th>\n",
       "      <td>Paul</td>\n",
       "      <td>Deitel</td>\n",
       "    </tr>\n",
       "  </tbody>\n",
       "</table>\n",
       "</div>"
      ],
      "text/plain": [
       "        first    last\n",
       "id                   \n",
       "5   Alexander    Wald\n",
       "4         Dan   Quirk\n",
       "3       Abbey  Deitel\n",
       "2      Harvey  Deitel\n",
       "1        Paul  Deitel"
      ]
     },
     "execution_count": 15,
     "metadata": {},
     "output_type": "execute_result"
    }
   ],
   "source": [
    "pd.read_sql(\"\"\"SELECT id, first, last \n",
    "                FROM authors \n",
    "                ORDER BY last DESC, first ASC\"\"\", \n",
    "             connection, index_col=['id'])\n"
   ]
  },
  {
   "cell_type": "markdown",
   "id": "da87ae8f-1b42-46ba-9b4a-13ce85a4b1b7",
   "metadata": {},
   "source": [
    "<b>Combining the WHERE and ORDER BY Clauses</b>"
   ]
  },
  {
   "cell_type": "code",
   "execution_count": 16,
   "id": "73c23083-ae16-4815-83e8-847a8029151a",
   "metadata": {},
   "outputs": [
    {
     "data": {
      "text/html": [
       "<div>\n",
       "<style scoped>\n",
       "    .dataframe tbody tr th:only-of-type {\n",
       "        vertical-align: middle;\n",
       "    }\n",
       "\n",
       "    .dataframe tbody tr th {\n",
       "        vertical-align: top;\n",
       "    }\n",
       "\n",
       "    .dataframe thead th {\n",
       "        text-align: right;\n",
       "    }\n",
       "</style>\n",
       "<table border=\"1\" class=\"dataframe\">\n",
       "  <thead>\n",
       "    <tr style=\"text-align: right;\">\n",
       "      <th></th>\n",
       "      <th>isbn</th>\n",
       "      <th>title</th>\n",
       "      <th>edition</th>\n",
       "      <th>copyright</th>\n",
       "    </tr>\n",
       "  </thead>\n",
       "  <tbody>\n",
       "    <tr>\n",
       "      <th>0</th>\n",
       "      <td>0134444302</td>\n",
       "      <td>Android How to Program</td>\n",
       "      <td>3</td>\n",
       "      <td>2017</td>\n",
       "    </tr>\n",
       "    <tr>\n",
       "      <th>1</th>\n",
       "      <td>0133976890</td>\n",
       "      <td>C How to Program</td>\n",
       "      <td>8</td>\n",
       "      <td>2016</td>\n",
       "    </tr>\n",
       "    <tr>\n",
       "      <th>2</th>\n",
       "      <td>0134448235</td>\n",
       "      <td>C++ How to Program</td>\n",
       "      <td>10</td>\n",
       "      <td>2017</td>\n",
       "    </tr>\n",
       "    <tr>\n",
       "      <th>3</th>\n",
       "      <td>0132151006</td>\n",
       "      <td>Internet &amp; WWW How to Program</td>\n",
       "      <td>5</td>\n",
       "      <td>2012</td>\n",
       "    </tr>\n",
       "    <tr>\n",
       "      <th>4</th>\n",
       "      <td>0134743350</td>\n",
       "      <td>Java How to Program</td>\n",
       "      <td>11</td>\n",
       "      <td>2018</td>\n",
       "    </tr>\n",
       "    <tr>\n",
       "      <th>5</th>\n",
       "      <td>0133406954</td>\n",
       "      <td>Visual Basic 2012 How to Program</td>\n",
       "      <td>6</td>\n",
       "      <td>2014</td>\n",
       "    </tr>\n",
       "    <tr>\n",
       "      <th>6</th>\n",
       "      <td>0134601548</td>\n",
       "      <td>Visual C# How to Program</td>\n",
       "      <td>6</td>\n",
       "      <td>2017</td>\n",
       "    </tr>\n",
       "    <tr>\n",
       "      <th>7</th>\n",
       "      <td>0136151574</td>\n",
       "      <td>Visual C++ How to Program</td>\n",
       "      <td>2</td>\n",
       "      <td>2008</td>\n",
       "    </tr>\n",
       "  </tbody>\n",
       "</table>\n",
       "</div>"
      ],
      "text/plain": [
       "         isbn                             title  edition copyright\n",
       "0  0134444302            Android How to Program        3      2017\n",
       "1  0133976890                  C How to Program        8      2016\n",
       "2  0134448235                C++ How to Program       10      2017\n",
       "3  0132151006     Internet & WWW How to Program        5      2012\n",
       "4  0134743350               Java How to Program       11      2018\n",
       "5  0133406954  Visual Basic 2012 How to Program        6      2014\n",
       "6  0134601548          Visual C# How to Program        6      2017\n",
       "7  0136151574         Visual C++ How to Program        2      2008"
      ]
     },
     "execution_count": 16,
     "metadata": {},
     "output_type": "execute_result"
    }
   ],
   "source": [
    "pd.read_sql(\"\"\"SELECT isbn, title, edition, copyright\n",
    "                FROM titles\n",
    "                WHERE title LIKE '%How to Program'\n",
    "                ORDER BY title\"\"\", connection)"
   ]
  },
  {
   "cell_type": "markdown",
   "id": "9decdeca-19ac-48b2-befc-0c58cae6f362",
   "metadata": {},
   "source": [
    "# 17.2.5 Merging Data from Multiple Tables: INNER JOIN"
   ]
  },
  {
   "cell_type": "code",
   "execution_count": 17,
   "id": "068e125e-1f45-4145-b584-22b4cf863141",
   "metadata": {},
   "outputs": [
    {
     "data": {
      "text/html": [
       "<div>\n",
       "<style scoped>\n",
       "    .dataframe tbody tr th:only-of-type {\n",
       "        vertical-align: middle;\n",
       "    }\n",
       "\n",
       "    .dataframe tbody tr th {\n",
       "        vertical-align: top;\n",
       "    }\n",
       "\n",
       "    .dataframe thead th {\n",
       "        text-align: right;\n",
       "    }\n",
       "</style>\n",
       "<table border=\"1\" class=\"dataframe\">\n",
       "  <thead>\n",
       "    <tr style=\"text-align: right;\">\n",
       "      <th></th>\n",
       "      <th>first</th>\n",
       "      <th>last</th>\n",
       "      <th>isbn</th>\n",
       "    </tr>\n",
       "  </thead>\n",
       "  <tbody>\n",
       "    <tr>\n",
       "      <th>0</th>\n",
       "      <td>Abbey</td>\n",
       "      <td>Deitel</td>\n",
       "      <td>0132151006</td>\n",
       "    </tr>\n",
       "    <tr>\n",
       "      <th>1</th>\n",
       "      <td>Abbey</td>\n",
       "      <td>Deitel</td>\n",
       "      <td>0133406954</td>\n",
       "    </tr>\n",
       "    <tr>\n",
       "      <th>2</th>\n",
       "      <td>Harvey</td>\n",
       "      <td>Deitel</td>\n",
       "      <td>0134289366</td>\n",
       "    </tr>\n",
       "    <tr>\n",
       "      <th>3</th>\n",
       "      <td>Harvey</td>\n",
       "      <td>Deitel</td>\n",
       "      <td>0135404673</td>\n",
       "    </tr>\n",
       "    <tr>\n",
       "      <th>4</th>\n",
       "      <td>Harvey</td>\n",
       "      <td>Deitel</td>\n",
       "      <td>0132151006</td>\n",
       "    </tr>\n",
       "  </tbody>\n",
       "</table>\n",
       "</div>"
      ],
      "text/plain": [
       "    first    last        isbn\n",
       "0   Abbey  Deitel  0132151006\n",
       "1   Abbey  Deitel  0133406954\n",
       "2  Harvey  Deitel  0134289366\n",
       "3  Harvey  Deitel  0135404673\n",
       "4  Harvey  Deitel  0132151006"
      ]
     },
     "execution_count": 17,
     "metadata": {},
     "output_type": "execute_result"
    }
   ],
   "source": [
    "pd.read_sql(\"\"\"SELECT first, last, isbn\n",
    "                FROM authors\n",
    "                INNER JOIN author_ISBN\n",
    "                    ON authors.id = author_ISBN.id\n",
    "                ORDER BY last, first\"\"\", connection).head()"
   ]
  },
  {
   "cell_type": "markdown",
   "id": "11cb4f78-c4fb-4012-8aa3-0cf1049fc8d3",
   "metadata": {},
   "source": [
    "# 17.2.6 INSERT INTO Statement"
   ]
  },
  {
   "cell_type": "markdown",
   "id": "b173b91d-d5f4-44bd-86c5-7c8e0c8f88bd",
   "metadata": {},
   "source": [
    "Use a sqlite3 cursor object"
   ]
  },
  {
   "cell_type": "code",
   "execution_count": 18,
   "id": "61e30a6e-96bc-43cc-9947-960f10dc0186",
   "metadata": {},
   "outputs": [],
   "source": [
    "cursor = connection.cursor()"
   ]
  },
  {
   "cell_type": "code",
   "execution_count": 19,
   "id": "cdbc2a7b-aef9-4cbc-9f99-b5f304516946",
   "metadata": {},
   "outputs": [],
   "source": [
    "cursor = cursor.execute(\"\"\"INSERT INTO authors (first, last)\n",
    "                            VALUES ('Sue', 'Red')\"\"\")"
   ]
  },
  {
   "cell_type": "code",
   "execution_count": 20,
   "id": "7a9edd47-f819-4871-ba5a-3308ebe5e587",
   "metadata": {},
   "outputs": [
    {
     "data": {
      "text/html": [
       "<div>\n",
       "<style scoped>\n",
       "    .dataframe tbody tr th:only-of-type {\n",
       "        vertical-align: middle;\n",
       "    }\n",
       "\n",
       "    .dataframe tbody tr th {\n",
       "        vertical-align: top;\n",
       "    }\n",
       "\n",
       "    .dataframe thead th {\n",
       "        text-align: right;\n",
       "    }\n",
       "</style>\n",
       "<table border=\"1\" class=\"dataframe\">\n",
       "  <thead>\n",
       "    <tr style=\"text-align: right;\">\n",
       "      <th></th>\n",
       "      <th>first</th>\n",
       "      <th>last</th>\n",
       "    </tr>\n",
       "    <tr>\n",
       "      <th>id</th>\n",
       "      <th></th>\n",
       "      <th></th>\n",
       "    </tr>\n",
       "  </thead>\n",
       "  <tbody>\n",
       "    <tr>\n",
       "      <th>1</th>\n",
       "      <td>Paul</td>\n",
       "      <td>Deitel</td>\n",
       "    </tr>\n",
       "    <tr>\n",
       "      <th>2</th>\n",
       "      <td>Harvey</td>\n",
       "      <td>Deitel</td>\n",
       "    </tr>\n",
       "    <tr>\n",
       "      <th>3</th>\n",
       "      <td>Abbey</td>\n",
       "      <td>Deitel</td>\n",
       "    </tr>\n",
       "    <tr>\n",
       "      <th>4</th>\n",
       "      <td>Dan</td>\n",
       "      <td>Quirk</td>\n",
       "    </tr>\n",
       "    <tr>\n",
       "      <th>5</th>\n",
       "      <td>Alexander</td>\n",
       "      <td>Wald</td>\n",
       "    </tr>\n",
       "    <tr>\n",
       "      <th>6</th>\n",
       "      <td>Sue</td>\n",
       "      <td>Red</td>\n",
       "    </tr>\n",
       "  </tbody>\n",
       "</table>\n",
       "</div>"
      ],
      "text/plain": [
       "        first    last\n",
       "id                   \n",
       "1        Paul  Deitel\n",
       "2      Harvey  Deitel\n",
       "3       Abbey  Deitel\n",
       "4         Dan   Quirk\n",
       "5   Alexander    Wald\n",
       "6         Sue     Red"
      ]
     },
     "execution_count": 20,
     "metadata": {},
     "output_type": "execute_result"
    }
   ],
   "source": [
    "pd.read_sql('SELECT id, first, last FROM authors', \n",
    "             connection, index_col=['id'])"
   ]
  },
  {
   "cell_type": "markdown",
   "id": "d0013ffc-b096-4442-a317-884ace015cfc",
   "metadata": {},
   "source": [
    "# 17.2.7 UPDATE Statement"
   ]
  },
  {
   "cell_type": "code",
   "execution_count": 21,
   "id": "76f82779-0438-448a-80cb-fb33f68bff87",
   "metadata": {},
   "outputs": [],
   "source": [
    "cursor = cursor.execute(\"\"\"UPDATE authors SET last='Black'\n",
    "                            WHERE last='Red' AND first='Sue'\"\"\") "
   ]
  },
  {
   "cell_type": "code",
   "execution_count": 22,
   "id": "d54dacf7-2bd1-445f-9df9-babff1883e69",
   "metadata": {},
   "outputs": [
    {
     "data": {
      "text/plain": [
       "1"
      ]
     },
     "execution_count": 22,
     "metadata": {},
     "output_type": "execute_result"
    }
   ],
   "source": [
    "cursor.rowcount"
   ]
  },
  {
   "cell_type": "code",
   "execution_count": 23,
   "id": "8d6c259f-c17c-4c5f-90b7-974a58566bd3",
   "metadata": {},
   "outputs": [
    {
     "data": {
      "text/html": [
       "<div>\n",
       "<style scoped>\n",
       "    .dataframe tbody tr th:only-of-type {\n",
       "        vertical-align: middle;\n",
       "    }\n",
       "\n",
       "    .dataframe tbody tr th {\n",
       "        vertical-align: top;\n",
       "    }\n",
       "\n",
       "    .dataframe thead th {\n",
       "        text-align: right;\n",
       "    }\n",
       "</style>\n",
       "<table border=\"1\" class=\"dataframe\">\n",
       "  <thead>\n",
       "    <tr style=\"text-align: right;\">\n",
       "      <th></th>\n",
       "      <th>first</th>\n",
       "      <th>last</th>\n",
       "    </tr>\n",
       "    <tr>\n",
       "      <th>id</th>\n",
       "      <th></th>\n",
       "      <th></th>\n",
       "    </tr>\n",
       "  </thead>\n",
       "  <tbody>\n",
       "    <tr>\n",
       "      <th>1</th>\n",
       "      <td>Paul</td>\n",
       "      <td>Deitel</td>\n",
       "    </tr>\n",
       "    <tr>\n",
       "      <th>2</th>\n",
       "      <td>Harvey</td>\n",
       "      <td>Deitel</td>\n",
       "    </tr>\n",
       "    <tr>\n",
       "      <th>3</th>\n",
       "      <td>Abbey</td>\n",
       "      <td>Deitel</td>\n",
       "    </tr>\n",
       "    <tr>\n",
       "      <th>4</th>\n",
       "      <td>Dan</td>\n",
       "      <td>Quirk</td>\n",
       "    </tr>\n",
       "    <tr>\n",
       "      <th>5</th>\n",
       "      <td>Alexander</td>\n",
       "      <td>Wald</td>\n",
       "    </tr>\n",
       "    <tr>\n",
       "      <th>6</th>\n",
       "      <td>Sue</td>\n",
       "      <td>Black</td>\n",
       "    </tr>\n",
       "  </tbody>\n",
       "</table>\n",
       "</div>"
      ],
      "text/plain": [
       "        first    last\n",
       "id                   \n",
       "1        Paul  Deitel\n",
       "2      Harvey  Deitel\n",
       "3       Abbey  Deitel\n",
       "4         Dan   Quirk\n",
       "5   Alexander    Wald\n",
       "6         Sue   Black"
      ]
     },
     "execution_count": 23,
     "metadata": {},
     "output_type": "execute_result"
    }
   ],
   "source": [
    "pd.read_sql('SELECT id, first, last FROM authors', \n",
    "             connection, index_col=['id'])"
   ]
  },
  {
   "cell_type": "markdown",
   "id": "f076ca81-831d-45e6-bfc9-0c6da4ee210f",
   "metadata": {},
   "source": [
    "# 17.2.8 DELETE FROM Statement"
   ]
  },
  {
   "cell_type": "code",
   "execution_count": 24,
   "id": "eba4ea06-df61-4ae1-bf9e-ddca5e3360e0",
   "metadata": {},
   "outputs": [],
   "source": [
    "cursor = cursor.execute('DELETE FROM authors where id=6') "
   ]
  },
  {
   "cell_type": "code",
   "execution_count": 25,
   "id": "f2917c22-5fe1-4f5f-b65d-fc67f83e7f4c",
   "metadata": {},
   "outputs": [
    {
     "data": {
      "text/plain": [
       "1"
      ]
     },
     "execution_count": 25,
     "metadata": {},
     "output_type": "execute_result"
    }
   ],
   "source": [
    "cursor.rowcount"
   ]
  },
  {
   "cell_type": "code",
   "execution_count": 26,
   "id": "bc3e1c79-8a7c-48fe-baa3-8d713009749e",
   "metadata": {},
   "outputs": [
    {
     "data": {
      "text/html": [
       "<div>\n",
       "<style scoped>\n",
       "    .dataframe tbody tr th:only-of-type {\n",
       "        vertical-align: middle;\n",
       "    }\n",
       "\n",
       "    .dataframe tbody tr th {\n",
       "        vertical-align: top;\n",
       "    }\n",
       "\n",
       "    .dataframe thead th {\n",
       "        text-align: right;\n",
       "    }\n",
       "</style>\n",
       "<table border=\"1\" class=\"dataframe\">\n",
       "  <thead>\n",
       "    <tr style=\"text-align: right;\">\n",
       "      <th></th>\n",
       "      <th>first</th>\n",
       "      <th>last</th>\n",
       "    </tr>\n",
       "    <tr>\n",
       "      <th>id</th>\n",
       "      <th></th>\n",
       "      <th></th>\n",
       "    </tr>\n",
       "  </thead>\n",
       "  <tbody>\n",
       "    <tr>\n",
       "      <th>1</th>\n",
       "      <td>Paul</td>\n",
       "      <td>Deitel</td>\n",
       "    </tr>\n",
       "    <tr>\n",
       "      <th>2</th>\n",
       "      <td>Harvey</td>\n",
       "      <td>Deitel</td>\n",
       "    </tr>\n",
       "    <tr>\n",
       "      <th>3</th>\n",
       "      <td>Abbey</td>\n",
       "      <td>Deitel</td>\n",
       "    </tr>\n",
       "    <tr>\n",
       "      <th>4</th>\n",
       "      <td>Dan</td>\n",
       "      <td>Quirk</td>\n",
       "    </tr>\n",
       "    <tr>\n",
       "      <th>5</th>\n",
       "      <td>Alexander</td>\n",
       "      <td>Wald</td>\n",
       "    </tr>\n",
       "  </tbody>\n",
       "</table>\n",
       "</div>"
      ],
      "text/plain": [
       "        first    last\n",
       "id                   \n",
       "1        Paul  Deitel\n",
       "2      Harvey  Deitel\n",
       "3       Abbey  Deitel\n",
       "4         Dan   Quirk\n",
       "5   Alexander    Wald"
      ]
     },
     "execution_count": 26,
     "metadata": {},
     "output_type": "execute_result"
    }
   ],
   "source": [
    "pd.read_sql('SELECT id, first, last FROM authors', \n",
    "             connection, index_col=['id'])"
   ]
  },
  {
   "cell_type": "markdown",
   "id": "4af067ed-38d4-4e0c-b902-be13e7883c43",
   "metadata": {},
   "source": [
    "<b>Closing the Datebase</b>\n",
    "<br>When you no longer need access to the database, you should call the Connection's close method to disconnect from the database<b> not yet</b> though, as I will use the database in the next self check exercises. I will use the<b> connection.close()</b> command in the end when I am finished."
   ]
  },
  {
   "cell_type": "markdown",
   "id": "744f72e8-3518-4b5c-8729-0696750ea04a",
   "metadata": {},
   "source": [
    "<b> SQL in Big Data</b>\n",
    "<br> SQl's importance and usage is growing in big data. Later in this chapter, we will use Spark SQL to query data in a Spark DataFrame which will distribute the data across many computers in a Spark cluster. As you will see, Spark SQl looks very similar to the SQL presented in this sction. Spark SQl will also be used in the excerises."
   ]
  },
  {
   "cell_type": "markdown",
   "id": "5e025d7f-89f4-472d-a7bc-0cf11dcee103",
   "metadata": {},
   "source": [
    "# Self Check for Section 17.2"
   ]
  },
  {
   "cell_type": "markdown",
   "id": "0f54a054-9ec3-47b4-800c-20e7f8dbffef",
   "metadata": {},
   "source": [
    "<b> Show only the first three results.<b>"
   ]
  },
  {
   "cell_type": "code",
   "execution_count": 27,
   "id": "ee3d1ec4-60ba-4260-9f8e-bdebed86d977",
   "metadata": {},
   "outputs": [
    {
     "data": {
      "text/html": [
       "<div>\n",
       "<style scoped>\n",
       "    .dataframe tbody tr th:only-of-type {\n",
       "        vertical-align: middle;\n",
       "    }\n",
       "\n",
       "    .dataframe tbody tr th {\n",
       "        vertical-align: top;\n",
       "    }\n",
       "\n",
       "    .dataframe thead th {\n",
       "        text-align: right;\n",
       "    }\n",
       "</style>\n",
       "<table border=\"1\" class=\"dataframe\">\n",
       "  <thead>\n",
       "    <tr style=\"text-align: right;\">\n",
       "      <th></th>\n",
       "      <th>title</th>\n",
       "      <th>edition</th>\n",
       "    </tr>\n",
       "  </thead>\n",
       "  <tbody>\n",
       "    <tr>\n",
       "      <th>0</th>\n",
       "      <td>Java How to Program</td>\n",
       "      <td>11</td>\n",
       "    </tr>\n",
       "    <tr>\n",
       "      <th>1</th>\n",
       "      <td>C++ How to Program</td>\n",
       "      <td>10</td>\n",
       "    </tr>\n",
       "    <tr>\n",
       "      <th>2</th>\n",
       "      <td>C How to Program</td>\n",
       "      <td>8</td>\n",
       "    </tr>\n",
       "  </tbody>\n",
       "</table>\n",
       "</div>"
      ],
      "text/plain": [
       "                 title  edition\n",
       "0  Java How to Program       11\n",
       "1   C++ How to Program       10\n",
       "2     C How to Program        8"
      ]
     },
     "execution_count": 27,
     "metadata": {},
     "output_type": "execute_result"
    }
   ],
   "source": [
    "pd.read_sql(\"\"\"SELECT title, edition FROM titles ORDER BY edition DESC\"\"\", connection).head(3)"
   ]
  },
  {
   "cell_type": "markdown",
   "id": "b43b4b69-6bd5-480a-b5f2-e959a072a586",
   "metadata": {},
   "source": [
    "<b>Select from authors table all authors whose first name starts whit 'A'</b>"
   ]
  },
  {
   "cell_type": "code",
   "execution_count": 28,
   "id": "3eb8af6d-ca9a-4c05-bbe1-dc22971318b0",
   "metadata": {},
   "outputs": [
    {
     "data": {
      "text/html": [
       "<div>\n",
       "<style scoped>\n",
       "    .dataframe tbody tr th:only-of-type {\n",
       "        vertical-align: middle;\n",
       "    }\n",
       "\n",
       "    .dataframe tbody tr th {\n",
       "        vertical-align: top;\n",
       "    }\n",
       "\n",
       "    .dataframe thead th {\n",
       "        text-align: right;\n",
       "    }\n",
       "</style>\n",
       "<table border=\"1\" class=\"dataframe\">\n",
       "  <thead>\n",
       "    <tr style=\"text-align: right;\">\n",
       "      <th></th>\n",
       "      <th>id</th>\n",
       "      <th>first</th>\n",
       "      <th>last</th>\n",
       "    </tr>\n",
       "  </thead>\n",
       "  <tbody>\n",
       "    <tr>\n",
       "      <th>0</th>\n",
       "      <td>3</td>\n",
       "      <td>Abbey</td>\n",
       "      <td>Deitel</td>\n",
       "    </tr>\n",
       "    <tr>\n",
       "      <th>1</th>\n",
       "      <td>5</td>\n",
       "      <td>Alexander</td>\n",
       "      <td>Wald</td>\n",
       "    </tr>\n",
       "  </tbody>\n",
       "</table>\n",
       "</div>"
      ],
      "text/plain": [
       "   id      first    last\n",
       "0   3      Abbey  Deitel\n",
       "1   5  Alexander    Wald"
      ]
     },
     "execution_count": 28,
     "metadata": {},
     "output_type": "execute_result"
    }
   ],
   "source": [
    "pd.read_sql(\"\"\"SELECT * FROM authors WHERE first LIKE 'A%'\"\"\", connection)"
   ]
  },
  {
   "cell_type": "markdown",
   "id": "ee7ba629-dc2a-4e51-84d1-da4ff1cdc3ef",
   "metadata": {},
   "source": [
    "<b>Select from the table all titles that do not end with 'How to Program'.</b>"
   ]
  },
  {
   "cell_type": "code",
   "execution_count": 29,
   "id": "acdf577d-d31d-451d-adb6-93d8d349a7ee",
   "metadata": {},
   "outputs": [
    {
     "data": {
      "text/html": [
       "<div>\n",
       "<style scoped>\n",
       "    .dataframe tbody tr th:only-of-type {\n",
       "        vertical-align: middle;\n",
       "    }\n",
       "\n",
       "    .dataframe tbody tr th {\n",
       "        vertical-align: top;\n",
       "    }\n",
       "\n",
       "    .dataframe thead th {\n",
       "        text-align: right;\n",
       "    }\n",
       "</style>\n",
       "<table border=\"1\" class=\"dataframe\">\n",
       "  <thead>\n",
       "    <tr style=\"text-align: right;\">\n",
       "      <th></th>\n",
       "      <th>isbn</th>\n",
       "      <th>title</th>\n",
       "      <th>edition</th>\n",
       "      <th>copyright</th>\n",
       "    </tr>\n",
       "  </thead>\n",
       "  <tbody>\n",
       "    <tr>\n",
       "      <th>0</th>\n",
       "      <td>0134289366</td>\n",
       "      <td>Android 6 for Programmers</td>\n",
       "      <td>3</td>\n",
       "      <td>2016</td>\n",
       "    </tr>\n",
       "    <tr>\n",
       "      <th>1</th>\n",
       "      <td>0135404673</td>\n",
       "      <td>Intro to Python for CS and DS</td>\n",
       "      <td>1</td>\n",
       "      <td>2020</td>\n",
       "    </tr>\n",
       "  </tbody>\n",
       "</table>\n",
       "</div>"
      ],
      "text/plain": [
       "         isbn                          title  edition copyright\n",
       "0  0134289366      Android 6 for Programmers        3      2016\n",
       "1  0135404673  Intro to Python for CS and DS        1      2020"
      ]
     },
     "execution_count": 29,
     "metadata": {},
     "output_type": "execute_result"
    }
   ],
   "source": [
    "pd.read_sql(\"\"\"SELECT isbn, title, edition, copyright\n",
    "                FROM titles\n",
    "                WHERE title NOT LIKE '%How to Program'\n",
    "                ORDER BY title\"\"\", connection)"
   ]
  },
  {
   "cell_type": "markdown",
   "id": "3a6ac9d7-92d8-4139-93bf-47e211aedf89",
   "metadata": {},
   "source": [
    "<b>Close the Database</b>"
   ]
  },
  {
   "cell_type": "code",
   "execution_count": 30,
   "id": "7e40b469-e466-4ed0-9ecd-b5f733334283",
   "metadata": {},
   "outputs": [],
   "source": [
    "connection.close()"
   ]
  },
  {
   "cell_type": "code",
   "execution_count": 31,
   "id": "2e8dba68-68b7-4e62-844f-939954845890",
   "metadata": {},
   "outputs": [
    {
     "name": "stdout",
     "output_type": "stream",
     "text": [
      "My name is Naiema Elsaadi\n"
     ]
    }
   ],
   "source": [
    "print('My name is Naiema Elsaadi')"
   ]
  }
 ],
 "metadata": {
  "kernelspec": {
   "display_name": "Python 3 (ipykernel)",
   "language": "python",
   "name": "python3"
  },
  "language_info": {
   "codemirror_mode": {
    "name": "ipython",
    "version": 3
   },
   "file_extension": ".py",
   "mimetype": "text/x-python",
   "name": "python",
   "nbconvert_exporter": "python",
   "pygments_lexer": "ipython3",
   "version": "3.9.12"
  }
 },
 "nbformat": 4,
 "nbformat_minor": 5
}
